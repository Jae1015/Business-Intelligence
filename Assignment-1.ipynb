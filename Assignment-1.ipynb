{
 "cells": [
  {
   "cell_type": "code",
   "execution_count": 1,
   "metadata": {
    "collapsed": false,
    "deletable": true,
    "editable": true
   },
   "outputs": [
    {
     "name": "stdout",
     "output_type": "stream",
     "text": [
      "Enter 3 numbers1,2,3\n",
      "1 2 3\n",
      "(3, ' is the largest')\n"
     ]
    }
   ],
   "source": [
    "#Largest of 3 numbers\n",
    "a,b,c = input(\"Enter 3 numbers\") #input is used to take integer inputs\n",
    "print a,b,c\n",
    "if a>b & a>c:\n",
    "    print(a,\" is the largest\")\n",
    "elif b>c:\n",
    "    print(b,\" is the largest\")\n",
    "else :\n",
    "    print(c,\" is the largest\")"
   ]
  },
  {
   "cell_type": "code",
   "execution_count": 3,
   "metadata": {
    "collapsed": false,
    "deletable": true,
    "editable": true
   },
   "outputs": [
    {
     "name": "stdout",
     "output_type": "stream",
     "text": [
      "Enter a number5\n",
      "120\n"
     ]
    }
   ],
   "source": [
    "#b.Find factorial of a given input number, use looping constructs.\n",
    "#Use python’s list data type to store numbers.\n",
    "\n",
    "fac=1;\n",
    "n = input(\"Enter a number\")\n",
    "for i in range(1,n+1):\n",
    "    fac*=i\n",
    "print fac;"
   ]
  },
  {
   "cell_type": "code",
   "execution_count": 14,
   "metadata": {
    "collapsed": false,
    "deletable": true,
    "editable": true
   },
   "outputs": [
    {
     "name": "stdout",
     "output_type": "stream",
     "text": [
      "Reading the file contents...\n",
      "Business IntelligenceThis is Assignment-1\n",
      "Writing to the file...\n",
      "Reading the file contents...\n",
      "Business IntelligenceThis is Assignment-1This is Assignment-1\n"
     ]
    }
   ],
   "source": [
    "#Write python code to read and write into a file.\n",
    "#Use python functions to read and write into a file.\n",
    "\n",
    "#file_object=open(filename,mode)\n",
    "f=open(\"Demo.txt\",\"r\")\n",
    "print \"Reading the file contents...\"\n",
    "print f.read()\n",
    "f.close()\n",
    "f=open(\"Demo.txt\",\"a\")\n",
    "print \"Writing to the file...\"\n",
    "f.write(\"This is Assignment-1\")\n",
    "f.close()\n",
    "f=open(\"Demo.txt\",\"r\")\n",
    "print \"Reading the file contents...\"\n",
    "print f.read()\n",
    "#r+ for opening the file in bot read and write modes"
   ]
  },
  {
   "cell_type": "code",
   "execution_count": 18,
   "metadata": {
    "collapsed": false,
    "deletable": true,
    "editable": true
   },
   "outputs": [
    {
     "name": "stdout",
     "output_type": "stream",
     "text": [
      "Handling Division by zero error\n"
     ]
    }
   ],
   "source": [
    "#d. Write python code to handle divide by zero exception\n",
    "import random\n",
    "def Luck():\n",
    "    x=random.randint(0,2)\n",
    "    print 10/x\n",
    "try:\n",
    "    Luck()\n",
    "except ZeroDivisionError as err:\n",
    "    print \"Handling Division by zero error\""
   ]
  },
  {
   "cell_type": "code",
   "execution_count": 33,
   "metadata": {
    "collapsed": false,
    "deletable": true,
    "editable": true
   },
   "outputs": [
    {
     "data": {
      "text/markdown": [
       "**Write python code to illustrate dictionary data structure.**"
      ],
      "text/plain": [
       "<IPython.core.display.Markdown object>"
      ]
     },
     "metadata": {},
     "output_type": "display_data"
    },
    {
     "name": "stdout",
     "output_type": "stream",
     "text": [
      "{'Supervised Learning': 'Classification/Regression/Estimation', 'Reinforcement Learning': 'Decision Making', 'Unsupervised Learning': 'Clustering/Prediction'}\n"
     ]
    },
    {
     "data": {
      "text/markdown": [
       "**ml[Supervised Learning]=**"
      ],
      "text/plain": [
       "<IPython.core.display.Markdown object>"
      ]
     },
     "metadata": {},
     "output_type": "display_data"
    },
    {
     "name": "stdout",
     "output_type": "stream",
     "text": [
      "Classification/Regression/Estimation\n"
     ]
    },
    {
     "data": {
      "text/markdown": [
       "**Removing a key and its value**"
      ],
      "text/plain": [
       "<IPython.core.display.Markdown object>"
      ]
     },
     "metadata": {},
     "output_type": "display_data"
    },
    {
     "name": "stdout",
     "output_type": "stream",
     "text": [
      "{'Supervised Learning': 'Classification/Regression/Estimation', 'Unsupervised Learning': 'Clustering/Prediction'}\n"
     ]
    },
    {
     "data": {
      "text/markdown": [
       "**Adding a key and its value:**"
      ],
      "text/plain": [
       "<IPython.core.display.Markdown object>"
      ]
     },
     "metadata": {},
     "output_type": "display_data"
    },
    {
     "name": "stdout",
     "output_type": "stream",
     "text": [
      "{'Supervised Learning': 'Classification/Regression/Estimation', 'Reinforcement Learning': 'Decision Making', 'Unsupervised Learning': 'Clustering/Prediction'}\n"
     ]
    },
    {
     "data": {
      "text/markdown": [
       "**Finding length of a dictionary:**"
      ],
      "text/plain": [
       "<IPython.core.display.Markdown object>"
      ]
     },
     "metadata": {},
     "output_type": "display_data"
    },
    {
     "name": "stdout",
     "output_type": "stream",
     "text": [
      "3\n"
     ]
    },
    {
     "data": {
      "text/markdown": [
       "**Printing all keys of a dictionary using for loop:**"
      ],
      "text/plain": [
       "<IPython.core.display.Markdown object>"
      ]
     },
     "metadata": {},
     "output_type": "display_data"
    },
    {
     "name": "stdout",
     "output_type": "stream",
     "text": [
      "Supervised Learning\n",
      "Reinforcement Learning\n",
      "Unsupervised Learning\n"
     ]
    },
    {
     "data": {
      "text/markdown": [
       "**Printing all the contents of a dictionary using for loop:**"
      ],
      "text/plain": [
       "<IPython.core.display.Markdown object>"
      ]
     },
     "metadata": {},
     "output_type": "display_data"
    },
    {
     "name": "stdout",
     "output_type": "stream",
     "text": [
      "Supervised Learning -> Classification/Regression/Estimation\n",
      "Reinforcement Learning -> Decision Making\n",
      "Unsupervised Learning -> Clustering/Prediction\n"
     ]
    }
   ],
   "source": [
    "#e Write python code to illustrate dictionary data structure.\n",
    "from IPython.display import Markdown, display\n",
    "ml={\n",
    "        \"Supervised Learning\":\"Classification/Regression/Estimation\",\n",
    "        \"Unsupervised Learning\":\"Clustering/Prediction\",\n",
    "        \"Reinforcement Learning\":\"Decision Making\"\n",
    "} \n",
    "print ml\n",
    "display(Markdown(\"**ml[Supervised Learning]=**\"))\n",
    "print ml[\"Supervised Learning\"]\n",
    "display(Markdown(\"**Removing a key and its value**\"))\n",
    "del ml[\"Reinforcement Learning\"]\n",
    "print ml\n",
    "display(Markdown(\"**Adding a key and its value:**\"))\n",
    "ml[\"Reinforcement Learning\"]=\"Decision Making\"\n",
    "print ml\n",
    "display(Markdown(\"**Finding length of a dictionary:**\"))\n",
    "print len(ml)\n",
    "display(Markdown(\"**Printing all keys of a dictionary using for loop:**\"))\n",
    "for x in ml:\n",
    "    print x\n",
    "display(Markdown(\"**Printing all the contents of a dictionary using for loop:**\"))\n",
    "for x,y in ml.items():     #\n",
    "    print x,\"->\",y"
   ]
  }
 ],
 "metadata": {
  "kernelspec": {
   "display_name": "Python 3",
   "language": "python",
   "name": "python3"
  },
  "language_info": {
   "codemirror_mode": {
    "name": "ipython",
    "version": 2
   },
   "file_extension": ".py",
   "mimetype": "text/x-python",
   "name": "python",
   "nbconvert_exporter": "python",
   "pygments_lexer": "ipython2",
   "version": "2.7.14"
  }
 },
 "nbformat": 4,
 "nbformat_minor": 2
}
