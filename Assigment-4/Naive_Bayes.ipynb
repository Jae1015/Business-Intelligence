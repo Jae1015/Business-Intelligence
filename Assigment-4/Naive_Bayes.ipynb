{
 "cells": [
  {
   "cell_type": "markdown",
   "metadata": {},
   "source": [
    "## 3 (a)Weather dataset: Use dummy values for training, refer tutorial. For testing also, use dummy values as per tutorial."
   ]
  },
  {
   "cell_type": "code",
   "execution_count": 1,
   "metadata": {},
   "outputs": [],
   "source": [
    "weather=['Sunny','Sunny','Overcast','Rainy','Rainy','Rainy','Overcast','Sunny','Sunny',\n",
    "'Rainy','Sunny','Overcast','Overcast','Rainy']\n",
    "temp=['Hot','Hot','Hot','Mild','Cool','Cool','Cool','Mild','Cool','Mild','Mild','Mild','Hot','Mild']\n",
    "\n",
    "play=['No','No','Yes','Yes','Yes','No','Yes','No','Yes','Yes','Yes','Yes','Yes','No']"
   ]
  },
  {
   "cell_type": "code",
   "execution_count": 2,
   "metadata": {},
   "outputs": [
    {
     "data": {
      "text/plain": [
       "array([2, 2, 0, 1, 1, 1, 0, 2, 2, 1, 2, 0, 0, 1])"
      ]
     },
     "execution_count": 2,
     "metadata": {},
     "output_type": "execute_result"
    }
   ],
   "source": [
    "#Label Encoder\n",
    "from sklearn import preprocessing\n",
    "#creating label encoder\n",
    "le = preprocessing.LabelEncoder()\n",
    "# Converting string labels into numbers.\n",
    "weather_encoded = le.fit_transform(weather)\n",
    "weather_encoded"
   ]
  },
  {
   "cell_type": "code",
   "execution_count": 3,
   "metadata": {},
   "outputs": [
    {
     "name": "stdout",
     "output_type": "stream",
     "text": [
      "[1 1 1 2 0 0 0 2 0 2 2 2 1 2]\n",
      "[0 0 1 1 1 0 1 0 1 1 1 1 1 0]\n"
     ]
    }
   ],
   "source": [
    "#Similarly converting temp an d play into numbers\n",
    "temp_encoded = le.fit_transform(temp)\n",
    "label = le.fit_transform(play)\n",
    "\n",
    "print (temp_encoded)\n",
    "print (label)"
   ]
  },
  {
   "cell_type": "code",
   "execution_count": 4,
   "metadata": {},
   "outputs": [
    {
     "name": "stdout",
     "output_type": "stream",
     "text": [
      "[(2, 1), (2, 1), (0, 1), (1, 2), (1, 0), (1, 0), (0, 0), (2, 2), (2, 0), (1, 2), (2, 2), (0, 2), (0, 1), (1, 2)]\n"
     ]
    }
   ],
   "source": [
    "#Combining weather and temp into single list of tuples\n",
    "features = zip(weather_encoded, temp_encoded) #to map the similar index of multiple containers so\n",
    "#that they can be used just using as single entity\n",
    "features_list = list(features)# zip in python3 returns an iterator. Iterators can only be exhausted (by something like making a list out of them) once. The purpose of this is to save memory by only \n",
    "print (features_list)"
   ]
  },
  {
   "cell_type": "code",
   "execution_count": 5,
   "metadata": {},
   "outputs": [
    {
     "name": "stdout",
     "output_type": "stream",
     "text": [
      "[1]\n"
     ]
    }
   ],
   "source": [
    "#Generate a model\n",
    "from sklearn.naive_bayes import GaussianNB\n",
    "\n",
    "#Create a Gaussian Classifier\n",
    "model = GaussianNB()\n",
    "\n",
    "# Train the model using the training sets\n",
    "model.fit(features_list, label)\n",
    "\n",
    "#Presict value\n",
    "predicted = model.predict([[0,2]])#Doubt\n",
    "print (predicted)"
   ]
  },
  {
   "cell_type": "markdown",
   "metadata": {},
   "source": [
    "## 3(b) Wine dataset: https://archive.ics.uci.edu/ml/datasets/wine, refer tutorial. Find accuracy of the model."
   ]
  },
  {
   "cell_type": "code",
   "execution_count": 6,
   "metadata": {},
   "outputs": [
    {
     "name": "stdout",
     "output_type": "stream",
     "text": [
      "features:  ['alcohol', 'malic_acid', 'ash', 'alcalinity_of_ash', 'magnesium', 'total_phenols', 'flavanoids', 'nonflavanoid_phenols', 'proanthocyanins', 'color_intensity', 'hue', 'od280/od315_of_diluted_wines', 'proline']\n",
      "labels:  ['class_0' 'class_1' 'class_2']\n"
     ]
    }
   ],
   "source": [
    "from sklearn import datasets\n",
    "\n",
    "#Load dataset\n",
    "wine = datasets.load_wine()\n",
    "\n",
    "#Features\n",
    "print(\"features: \",wine.feature_names)\n",
    "\n",
    "#Labels\n",
    "print(\"labels: \",wine.target_names)"
   ]
  },
  {
   "cell_type": "code",
   "execution_count": 7,
   "metadata": {},
   "outputs": [
    {
     "name": "stdout",
     "output_type": "stream",
     "text": [
      "(178, 13)\n",
      "[[1.423e+01 1.710e+00 2.430e+00 1.560e+01 1.270e+02 2.800e+00 3.060e+00\n",
      "  2.800e-01 2.290e+00 5.640e+00 1.040e+00 3.920e+00 1.065e+03]\n",
      " [1.320e+01 1.780e+00 2.140e+00 1.120e+01 1.000e+02 2.650e+00 2.760e+00\n",
      "  2.600e-01 1.280e+00 4.380e+00 1.050e+00 3.400e+00 1.050e+03]\n",
      " [1.316e+01 2.360e+00 2.670e+00 1.860e+01 1.010e+02 2.800e+00 3.240e+00\n",
      "  3.000e-01 2.810e+00 5.680e+00 1.030e+00 3.170e+00 1.185e+03]\n",
      " [1.437e+01 1.950e+00 2.500e+00 1.680e+01 1.130e+02 3.850e+00 3.490e+00\n",
      "  2.400e-01 2.180e+00 7.800e+00 8.600e-01 3.450e+00 1.480e+03]\n",
      " [1.324e+01 2.590e+00 2.870e+00 2.100e+01 1.180e+02 2.800e+00 2.690e+00\n",
      "  3.900e-01 1.820e+00 4.320e+00 1.040e+00 2.930e+00 7.350e+02]]\n",
      "[0 0 0 0 0 0 0 0 0 0 0 0 0 0 0 0 0 0 0 0 0 0 0 0 0 0 0 0 0 0 0 0 0 0 0 0 0\n",
      " 0 0 0 0 0 0 0 0 0 0 0 0 0 0 0 0 0 0 0 0 0 0 1 1 1 1 1 1 1 1 1 1 1 1 1 1 1\n",
      " 1 1 1 1 1 1 1 1 1 1 1 1 1 1 1 1 1 1 1 1 1 1 1 1 1 1 1 1 1 1 1 1 1 1 1 1 1\n",
      " 1 1 1 1 1 1 1 1 1 1 1 1 1 1 1 1 1 1 1 2 2 2 2 2 2 2 2 2 2 2 2 2 2 2 2 2 2\n",
      " 2 2 2 2 2 2 2 2 2 2 2 2 2 2 2 2 2 2 2 2 2 2 2 2 2 2 2 2 2 2]\n"
     ]
    }
   ],
   "source": [
    "#Exploring data\n",
    "print(wine.data.shape)\n",
    "\n",
    "#print top 5 records\n",
    "print(wine.data[0:5])\n",
    "\n",
    "#print the wine labels (0:Class_0, 1:class_2, 2:class_2)\n",
    "print (wine.target)"
   ]
  },
  {
   "cell_type": "code",
   "execution_count": 8,
   "metadata": {},
   "outputs": [],
   "source": [
    "#SPlitting the dataset\n",
    "from sklearn.model_selection import train_test_split #train_test_split is now in model_selection\n",
    "\n",
    "X_train, X_test, y_train, y_test = train_test_split(wine.data, wine.target, test_size=0.3,random_state=109)\n",
    "#This is to check and validate the data when running the code multiple times. Setting random_state a fixed\n",
    "#value will guarantee that same sequence of random numbers are generated each time you run the code."
   ]
  },
  {
   "cell_type": "code",
   "execution_count": 9,
   "metadata": {},
   "outputs": [],
   "source": [
    "#Model Generation\n",
    "gnb = GaussianNB()\n",
    "gnb.fit(X_train,y_train)\n",
    "y_pred = gnb.predict(X_test)"
   ]
  },
  {
   "cell_type": "code",
   "execution_count": 10,
   "metadata": {},
   "outputs": [
    {
     "name": "stdout",
     "output_type": "stream",
     "text": [
      "Accuracy 0.9074074074074074\n"
     ]
    }
   ],
   "source": [
    "#Accuracy Calculation\n",
    "from sklearn import metrics\n",
    "print(\"Accuracy\", metrics.accuracy_score(y_pred,y_test))"
   ]
  },
  {
   "cell_type": "markdown",
   "metadata": {},
   "source": [
    "### For 3(b), run naive bayes for different configurations of train:test split, namely 50:50, 60:40, 70:30, 80:20 and 90:10. For each configuration, compute precision and recall values (both expressed as percentage). Use matplotlib to draw bar plots (in single plot) for precision & recall for each configuration. On X-axis, write configurations and on Y-axis is percentage to represent precision and recall. Use red bar for precision and blue bar for recall. (Refer: https://matplotlib.org/gallery/statistics/barchart_demo.html)"
   ]
  },
  {
   "cell_type": "code",
   "execution_count": 11,
   "metadata": {},
   "outputs": [
    {
     "name": "stdout",
     "output_type": "stream",
     "text": [
      "Precision:  0.9543266769073222\n",
      "Recall:  0.957997311827957\n"
     ]
    }
   ],
   "source": [
    "#https://towardsdatascience.com/beyond-accuracy-precision-and-recall-3da06bea9f6c\n",
    "# 50:50\n",
    "X_train, X_test, y_train, y_test = train_test_split(wine.data, wine.target, test_size=0.5,random_state=109)\n",
    "gnb.fit(X_train,y_train)\n",
    "y_pred = gnb.predict(X_test)\n",
    "pre_50 = metrics.precision_score(y_test,y_pred,average = 'macro')# Calculate metrics for each label, and find their unweighted mean. This does not take label imbalance into account.\n",
    "re_50 = metrics.recall_score(y_test,y_pred,average = 'macro')\n",
    "print(\"Precision: \",pre_50)\n",
    "print(\"Recall: \",re_50)"
   ]
  },
  {
   "cell_type": "code",
   "execution_count": 12,
   "metadata": {},
   "outputs": [
    {
     "name": "stdout",
     "output_type": "stream",
     "text": [
      "Precision:  0.9310628019323671\n",
      "Recall:  0.93482905982906\n"
     ]
    }
   ],
   "source": [
    "# 60:40\n",
    "X_train, X_test, y_train, y_test = train_test_split(wine.data, wine.target, test_size=0.4,random_state=109)\n",
    "gnb.fit(X_train,y_train)\n",
    "y_pred = gnb.predict(X_test)\n",
    "pre_40 = metrics.precision_score(y_test,y_pred,average = 'macro')# Calculate metrics for each label, and find their unweighted mean. This does not take label imbalance into account.\n",
    "re_40 = metrics.recall_score(y_test,y_pred,average = 'macro')\n",
    "print(\"Precision: \",pre_40)\n",
    "print(\"Recall: \",re_40)"
   ]
  },
  {
   "cell_type": "code",
   "execution_count": 13,
   "metadata": {},
   "outputs": [
    {
     "name": "stdout",
     "output_type": "stream",
     "text": [
      "Precision:  0.9071969696969697\n",
      "Recall:  0.9139515455304928\n"
     ]
    }
   ],
   "source": [
    "# 70:30\n",
    "X_train, X_test, y_train, y_test = train_test_split(wine.data, wine.target, test_size=0.3,random_state=109)\n",
    "gnb.fit(X_train,y_train)\n",
    "y_pred = gnb.predict(X_test)\n",
    "pre_30 = metrics.precision_score(y_test,y_pred,average = 'macro')# Calculate metrics for each label, and find their unweighted mean. This does not take label imbalance into account.\n",
    "re_30 = metrics.recall_score(y_test,y_pred,average = 'macro')\n",
    "#print(re_30)\n",
    "print(\"Precision: \",pre_30)\n",
    "print(\"Recall: \",re_30)"
   ]
  },
  {
   "cell_type": "code",
   "execution_count": 14,
   "metadata": {},
   "outputs": [
    {
     "name": "stdout",
     "output_type": "stream",
     "text": [
      "Precision:  0.9259259259259259\n",
      "Recall:  0.9583333333333334\n"
     ]
    }
   ],
   "source": [
    "# 80:20\n",
    "X_train, X_test, y_train, y_test = train_test_split(wine.data, wine.target, test_size=0.2,random_state=109)\n",
    "gnb.fit(X_train,y_train)\n",
    "y_pred = gnb.predict(X_test)\n",
    "pre_20 = metrics.precision_score(y_test,y_pred,average = 'macro')# Calculate metrics for each label, and find their unweighted mean. This does not take label imbalance into account.\n",
    "re_20 = metrics.recall_score(y_test,y_pred,average = 'macro')\n",
    "print(\"Precision: \",pre_20)\n",
    "print(\"Recall: \",re_20)"
   ]
  },
  {
   "cell_type": "code",
   "execution_count": 15,
   "metadata": {},
   "outputs": [
    {
     "name": "stdout",
     "output_type": "stream",
     "text": [
      "Precision:  0.875\n",
      "Recall:  0.9107142857142857\n"
     ]
    }
   ],
   "source": [
    "# 90:10\n",
    "X_train, X_test, y_train, y_test = train_test_split(wine.data, wine.target, test_size=0.1,random_state=109)\n",
    "gnb.fit(X_train,y_train)\n",
    "y_pred = gnb.predict(X_test)\n",
    "pre_10 = metrics.precision_score(y_test,y_pred,average = 'macro')# Calculate metrics for each label, and find their unweighted mean. This does not take label imbalance into account.\n",
    "re_10 = metrics.recall_score(y_test,y_pred,average = 'macro')\n",
    "print(\"Precision: \",pre_10)\n",
    "print(\"Recall: \",re_10)"
   ]
  },
  {
   "cell_type": "code",
   "execution_count": 17,
   "metadata": {},
   "outputs": [
    {
     "data": {
      "image/png": "[encoded data removed]",
      "text/plain": [
       "<Figure size 432x288 with 1 Axes>"
      ]
     },
     "metadata": {},
     "output_type": "display_data"
    }
   ],
   "source": [
    "import numpy as np\n",
    "import matplotlib.pyplot as plt\n",
    "\n",
    "n_groups = 5\n",
    "precisions = (pre_50, pre_40, pre_30, pre_20, pre_10)#tuple(immutable Python objects)\n",
    "recalls = (re_50, re_40, re_30, re_20, re_10)#tuple\n",
    "\n",
    "fig,ax = plt.subplots()#creates one figure with one subplot\n",
    "index = np.arange(n_groups)#for labels on X-axis and number of subplots(values between 0 and 1)\n",
    "bar_width = 0.35\n",
    "opacity = 0.8\n",
    "\n",
    "#plt.bar(x,height,bar_width)\n",
    "plt.bar(index,precisions,bar_width,alpha=opacity,color='r',label='Precision')\n",
    "plt.bar(index+bar_width,recalls,bar_width,alpha=opacity,color='b',label='Recall')\n",
    "#both the subplots have no labels on X-axis or Y-axis\n",
    "#index_bar_width to distinct subplots in a group\n",
    "\n",
    "plt.xlabel('Different split ratios')\n",
    "plt.ylabel('Precision and Recall')\n",
    "plt.title('Precision and Recall of different splits')\n",
    "#No labels till now for subplots\n",
    "\n",
    "plt.xticks(index+bar_width,('50:50','60:40','70:30','80:20','90:10'))\n",
    "# xticks()-Get or set the current tick locations and labels of the x-axis.\n",
    "#xticks(ticks, [labels], **kwargs)  # Set locations and labels\n",
    "\n",
    "plt.legend() #for showing what different colors represent\n",
    "\n",
    "plt.tight_layout()\n",
    "plt.show()\n"
   ]
  }
 ],
 "metadata": {
  "kernelspec": {
   "display_name": "Python 3",
   "language": "python",
   "name": "python3"
  },
  "language_info": {
   "codemirror_mode": {
    "name": "ipython",
    "version": 3
   },
   "file_extension": ".py",
   "mimetype": "text/x-python",
   "name": "python",
   "nbconvert_exporter": "python",
   "pygments_lexer": "ipython3",
   "version": "3.6.7"
  }
 },
 "nbformat": 4,
 "nbformat_minor": 2
}
